{
  "nbformat": 4,
  "nbformat_minor": 0,
  "metadata": {
    "colab": {
      "provenance": [],
      "gpuType": "T4"
    },
    "kernelspec": {
      "name": "python3",
      "display_name": "Python 3"
    },
    "language_info": {
      "name": "python"
    },
    "accelerator": "GPU"
  },
  "cells": [
    {
      "cell_type": "code",
      "source": [
        "import time\n",
        "import numba\n",
        "from numba import cuda\n",
        "from numba.cuda.random import xoroshiro128p_uniform_float32, create_xoroshiro128p_states, xoroshiro128p_normal_float64\n",
        "import numpy as np\n",
        "import matplotlib.pyplot as plt\n"
      ],
      "metadata": {
        "id": "l7bPDtDR_GkI"
      },
      "execution_count": 5,
      "outputs": []
    },
    {
      "cell_type": "code",
      "source": [
        "# CUDA kernel to calculate fitness values\n",
        "@cuda.jit\n",
        "def cuda_get_fitnesses(population, points, fitnesses):\n",
        "    index = cuda.grid(1)\n",
        "    if index < population.shape[0]:\n",
        "        fitness = 0\n",
        "        for point in points:\n",
        "            value = 0\n",
        "            for j in range(population.shape[1] - 1):\n",
        "                value += population[index, j] * point[0] ** j\n",
        "            fitness += (point[1] - value) ** 2\n",
        "        fitnesses[index] = fitness\n",
        "\n",
        "# CUDA kernel to generate the next population\n",
        "@cuda.jit\n",
        "def cuda_get_next_population(rng_states, population, new_population):\n",
        "    index = cuda.grid(1)\n",
        "    current_size = population.shape[0]\n",
        "    if index < current_size:\n",
        "        i = int(xoroshiro128p_uniform_float32(rng_states, index) * current_size)\n",
        "        j = int(xoroshiro128p_uniform_float32(rng_states, index) * current_size)\n",
        "        while i == j:\n",
        "            j = int(xoroshiro128p_uniform_float32(rng_states, index) * current_size)\n",
        "\n",
        "        shift = int(xoroshiro128p_uniform_float32(rng_states, index) * gens_count) or 1\n",
        "        for k in range(shift):\n",
        "            new_population[index, k] = population[i, k]\n",
        "            new_population[index + current_size, k] = population[j, k]\n",
        "        for k in range(gens_count - shift):\n",
        "            new_population[index, shift + k] = population[j, shift + k]\n",
        "            new_population[index + current_size, shift + k] = population[i, shift + k]\n",
        "\n",
        "        for k in range(gens_count):\n",
        "            if xoroshiro128p_uniform_float32(rng_states, index) < 0.02:\n",
        "                new_population[index, k] += E + D * xoroshiro128p_normal_float64(rng_states, index)\n",
        "            if xoroshiro128p_uniform_float32(rng_states, index) < 0.02:\n",
        "                new_population[index + current_size, k] += E + D * xoroshiro128p_normal_float64(rng_states, index)\n",
        "\n",
        "# Generate data points based on coefficients\n",
        "def get_points(coefficients, points_count):\n",
        "    points = np.zeros((points_count, 2))\n",
        "    for point in points:\n",
        "        point[0] = -5 + np.random.rand() * 10\n",
        "        point[1] = get_y(coefficients, point[0]) + np.random.rand()\n",
        "    return points\n",
        "\n",
        "# Calculate y-value based on coefficients\n",
        "def get_y(coefficients, x):\n",
        "    return sum(coef * x ** i for i, coef in enumerate(coefficients))\n",
        "\n",
        "# Run CUDA kernel to calculate fitnesses\n",
        "def run_cuda_get_fitnesses(population, points):\n",
        "    d_points = cuda.to_device(points)\n",
        "    d_population = cuda.to_device(population)\n",
        "    d_fitnesses = cuda.device_array(population.shape[0])\n",
        "    threads_per_block = 256\n",
        "    blocks_per_grid = (population.shape[0] + threads_per_block - 1) // threads_per_block\n",
        "    cuda_get_fitnesses[blocks_per_grid, threads_per_block](d_population, d_points, d_fitnesses)\n",
        "    return d_fitnesses.copy_to_host()\n",
        "\n",
        "# Run CUDA kernel to generate the next population\n",
        "def run_cuda_get_next_population(population):\n",
        "    d_population = cuda.to_device(population)\n",
        "    d_new_population = cuda.device_array((population_size * 2, gens_count + 1))\n",
        "    threads_per_block = 256\n",
        "    blocks_per_grid = (population_size + threads_per_block - 1) // threads_per_block\n",
        "    cuda_get_next_population[blocks_per_grid, threads_per_block](rng_states, d_population, d_new_population)\n",
        "    return d_new_population.copy_to_host()\n",
        "\n",
        "# Main parameters\n",
        "points_count = 10 ** 3\n",
        "iter_count = 10 ** 3\n",
        "gens_count = 6\n",
        "E = 0\n",
        "D = 1\n",
        "error = 0.1\n",
        "population_size = 10 ** 3\n",
        "coefficients = np.random.rand(gens_count)\n",
        "coefficients[-1] += 1\n",
        "points = get_points(coefficients, points_count)\n",
        "rng_states = create_xoroshiro128p_states(256 * 1024, seed=1)\n",
        "population = np.random.rand(population_size, gens_count + 1)\n",
        "\n",
        "# Genetic algorithm loop\n",
        "best_fitness = np.inf\n",
        "best_solution = None\n",
        "start_time = time.time()\n",
        "\n",
        "for current_iter in range(iter_count):\n",
        "    fitnesses = run_cuda_get_fitnesses(population, points)\n",
        "    population[:, -1] = fitnesses\n",
        "    population = population[np.argsort(population[:, -1])]\n",
        "\n",
        "    if population[0, -1] < best_fitness:\n",
        "        best_fitness = population[0, -1]\n",
        "        best_solution = population[0, :-1]\n",
        "        if best_fitness < error:\n",
        "            break\n",
        "\n",
        "    population = run_cuda_get_next_population(population[:population_size // 2])\n",
        "\n",
        "print(f\"Execution time: {time.time() - start_time:.2f} seconds\")"
      ],
      "metadata": {
        "colab": {
          "base_uri": "https://localhost:8080/"
        },
        "id": "rpc-QH6s_d02",
        "outputId": "393f4905-182e-4059-a737-c3560b9e3608"
      },
      "execution_count": 8,
      "outputs": [
        {
          "output_type": "stream",
          "name": "stderr",
          "text": [
            "/usr/local/lib/python3.10/dist-packages/numba/cuda/dispatcher.py:536: NumbaPerformanceWarning: Grid size 4 will likely result in GPU under-utilization due to low occupancy.\n",
            "  warn(NumbaPerformanceWarning(msg))\n",
            "/usr/local/lib/python3.10/dist-packages/numba/cuda/dispatcher.py:536: NumbaPerformanceWarning: Grid size 4 will likely result in GPU under-utilization due to low occupancy.\n",
            "  warn(NumbaPerformanceWarning(msg))\n",
            "/usr/local/lib/python3.10/dist-packages/numba/cuda/dispatcher.py:536: NumbaPerformanceWarning: Grid size 8 will likely result in GPU under-utilization due to low occupancy.\n",
            "  warn(NumbaPerformanceWarning(msg))\n"
          ]
        },
        {
          "output_type": "stream",
          "name": "stdout",
          "text": [
            "Execution time: 6.59 seconds\n"
          ]
        }
      ]
    },
    {
      "cell_type": "code",
      "source": [
        "# Visualize results\n",
        "n = 100\n",
        "x_lin = np.linspace(points[:, 0].min(), points[:, 0].max(), n)\n",
        "y_pred = np.array([get_y(best_solution, x) for x in x_lin])\n",
        "\n",
        "print(f\"True coefficients: {coefficients}\")\n",
        "print(f\"Found coefficients: {best_solution}\")\n",
        "print(f\"Iterations: {current_iter}\")\n",
        "\n",
        "plt.scatter(points[:, 0], points[:, 1], label=\"Data points\")\n",
        "plt.plot(x_lin, y_pred, color=\"red\", label=\"Best fit\")\n",
        "plt.legend()\n",
        "plt.savefig(\"result.png\")\n",
        "plt.show()\n"
      ],
      "metadata": {
        "colab": {
          "base_uri": "https://localhost:8080/",
          "height": 485
        },
        "id": "A6qJZn60_fu2",
        "outputId": "03404d09-05e8-4ff3-9464-98a6aeb83284"
      },
      "execution_count": 9,
      "outputs": [
        {
          "output_type": "stream",
          "name": "stdout",
          "text": [
            "True coefficients: [0.56237353 0.8225707  0.46726579 0.55313258 0.63416845 1.64345964]\n",
            "Found coefficients: [ 2.34432084 -0.06163891 -0.02719066  0.72787791  0.65705881  1.63703767]\n",
            "Iterations: 999\n"
          ]
        },
        {
          "output_type": "display_data",
          "data": {
            "text/plain": [
              "<Figure size 640x480 with 1 Axes>"
            ],
            "image/png": "[encoded data removed]"
          },
          "metadata": {}
        }
      ]
    }
  ]
}