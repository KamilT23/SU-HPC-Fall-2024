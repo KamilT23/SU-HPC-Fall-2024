{
  "nbformat": 4,
  "nbformat_minor": 0,
  "metadata": {
    "colab": {
      "provenance": [],
      "gpuType": "T4"
    },
    "kernelspec": {
      "name": "python3",
      "display_name": "Python 3"
    },
    "language_info": {
      "name": "python"
    },
    "accelerator": "GPU"
  },
  "cells": [
    {
      "cell_type": "code",
      "source": [
        "import timeit\n",
        "import numba\n",
        "from numba import cuda, int32\n",
        "import numpy as np"
      ],
      "metadata": {
        "id": "lO4r_0b9HJNQ"
      },
      "execution_count": 1,
      "outputs": []
    },
    {
      "cell_type": "code",
      "execution_count": 2,
      "metadata": {
        "id": "VNq6QZrlGThK"
      },
      "outputs": [],
      "source": [
        "@cuda.jit\n",
        "def cuda_points_count(points, count):\n",
        "    \"\"\"\n",
        "    CUDA-ядро для подсчета количества точек, попадающих в единичную окружность.\n",
        "\n",
        "    Args:\n",
        "        points: Массив точек (n x 2).\n",
        "        count: Глобальный счетчик для хранения количества точек внутри окружности.\n",
        "    \"\"\"\n",
        "    idx = cuda.grid(1)  # Глобальный индекс потока\n",
        "    if idx < points.shape[0]:  # Проверка границ массива\n",
        "        x, y = points[idx]\n",
        "        if x ** 2 + y ** 2 <= 1.0:\n",
        "            cuda.atomic.add(count, 0, 1)\n",
        "\n",
        "def cpu_points_count(points: np.ndarray) -> int:\n",
        "    \"\"\"\n",
        "    Подсчет количества точек, попадающих в единичную окружность на CPU.\n",
        "\n",
        "    Args:\n",
        "        points: Массив точек (n x 2).\n",
        "\n",
        "    Returns:\n",
        "        Количество точек внутри окружности.\n",
        "    \"\"\"\n",
        "    return np.sum(np.sum(points ** 2, axis=1) <= 1)\n",
        "\n",
        "def run_cuda_points_count(points: np.ndarray) -> int:\n",
        "    \"\"\"\n",
        "    Запуск подсчета точек внутри окружности с использованием CUDA.\n",
        "\n",
        "    Args:\n",
        "        points: Массив точек (n x 2).\n",
        "\n",
        "    Returns:\n",
        "        Количество точек внутри окружности.\n",
        "    \"\"\"\n",
        "    d_points = cuda.to_device(points)\n",
        "    d_count = cuda.to_device(np.zeros(1, dtype=np.int32))  # Счетчик на устройстве\n",
        "\n",
        "    threads_per_block = 256\n",
        "    blocks_per_grid = (points.shape[0] + threads_per_block - 1) // threads_per_block\n",
        "\n",
        "    # Запуск CUDA-ядра\n",
        "    cuda_points_count[blocks_per_grid, threads_per_block](d_points, d_count)\n",
        "    return d_count.copy_to_host()[0]\n"
      ]
    },
    {
      "cell_type": "code",
      "source": [
        "n = 10 ** 6  # Количество точек\n",
        "number_of_tests = 12\n",
        "points = (np.random.rand(n, 2) - 0.5) * 2  # Случайные точки в диапазоне [-1, 1] x [-1, 1]\n",
        "\n",
        "cuda_result = 4 * run_cuda_points_count(points) / n\n",
        "cpu_result = 4 * cpu_points_count(points) / n\n",
        "\n",
        "time_cuda = timeit.timeit(lambda: run_cuda_points_count(points), number=number_of_tests) / number_of_tests\n",
        "time_cpu = timeit.timeit(lambda: cpu_points_count(points), number=number_of_tests) / number_of_tests\n",
        "\n",
        "# Вывод результатов\n",
        "print(f\"TIME CUDA = {time_cuda:.6f} s\")\n",
        "print(f\"TIME CPU = {time_cpu:.6f} s\")\n",
        "print(f\"SPEED UP = {time_cpu / time_cuda:.2f}x\")\n",
        "print(f\"GPU: pi ≈ {cuda_result:.6f}\")\n",
        "print(f\"CPU: pi ≈ {cpu_result:.6f}\")\n"
      ],
      "metadata": {
        "colab": {
          "base_uri": "https://localhost:8080/"
        },
        "id": "7ZcuoPzfHONn",
        "outputId": "7fcf1f1f-d0d5-425b-8b6e-9cd990227f30"
      },
      "execution_count": 3,
      "outputs": [
        {
          "output_type": "stream",
          "name": "stdout",
          "text": [
            "TIME CUDA = 0.005527 s\n",
            "TIME CPU = 0.024369 s\n",
            "SPEED UP = 4.41x\n",
            "GPU: pi ≈ 3.141240\n",
            "CPU: pi ≈ 3.141240\n"
          ]
        }
      ]
    }
  ]
}